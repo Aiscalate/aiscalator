{
 "cells": [
  {
   "cell_type": "code",
   "execution_count": 2,
   "metadata": {},
   "outputs": [],
   "source": [
    "from airflow import DAG\n",
    "from airflow.operators.bash_operator import BashOperator\n",
    "from datetime import datetime, timedelta"
   ]
  },
  {
   "cell_type": "code",
   "execution_count": 3,
   "metadata": {},
   "outputs": [],
   "source": [
    "default_args = {\n",
    "    'owner': 'airflow',\n",
    "    'depends_on_past': False,\n",
    "    'start_date': datetime(2018, 10, 25, 21, 15),\n",
    "    'email': ['airflow@example.com'],\n",
    "    'email_on_failure': False,\n",
    "    'email_on_retry': False,\n",
    "    'retries': 1,\n",
    "    'retry_delay': timedelta(minutes=5),\n",
    "}"
   ]
  },
  {
   "cell_type": "code",
   "execution_count": 4,
   "metadata": {},
   "outputs": [],
   "source": [
    "dag = DAG(\n",
    "    'adv_papermill_example', \n",
    "    default_args=default_args,\n",
    "    schedule_interval=\"@daily\"\n",
    ")"
   ]
  },
  {
   "cell_type": "code",
   "execution_count": 5,
   "metadata": {},
   "outputs": [],
   "source": [
    "t1 = BashOperator(\n",
    "    task_id='step1_ETL_data',\n",
    "    bash_command=\"\"\"\n",
    "aiscalator jupyter run \\\n",
    "    /usr/local/airflow/workspace/example/example.conf \\\n",
    "    examples.advanced_papermill.step1 \\\n",
    "    -p run_date {{ ds }} \n",
    "\"\"\",\n",
    "    dag=dag)\n",
    "\n",
    "t2 = BashOperator(\n",
    "    task_id='step2_model',\n",
    "    bash_command=\"\"\"\n",
    "aiscalator jupyter run \\\n",
    "    /usr/local/airflow/workspace/example/example.conf \\\n",
    "    examples.advanced_papermill.step2 \\\n",
    "    -p run_date {{ ds }} \n",
    "\"\"\",\n",
    "    dag=dag)\n",
    "\n",
    "t3 = BashOperator(\n",
    "    task_id='step3_report',\n",
    "    bash_command=\"\"\"\n",
    "aiscalator jupyter run \\\n",
    "    /usr/local/airflow/workspace/example/example.conf \\\n",
    "    examples.advanced_papermill.step3 \\\n",
    "    -p run_date {{ ds }} \n",
    "\"\"\",\n",
    "    dag=dag)"
   ]
  },
  {
   "cell_type": "code",
   "execution_count": 6,
   "metadata": {
    "lines_to_next_cell": 2
   },
   "outputs": [
    {
     "data": {
      "text/plain": [
       "<Task(BashOperator): generate_step1_data>"
      ]
     },
     "execution_count": 6,
     "metadata": {},
     "output_type": "execute_result"
    }
   ],
   "source": [
    "t3 << t2 << t1"
   ]
  },
  {
   "cell_type": "code",
   "execution_count": null,
   "metadata": {},
   "outputs": [],
   "source": []
  }
 ],
 "metadata": {
  "jupytext": {
   "text_representation": {
    "extension": ".py",
    "format_name": "percent",
    "format_version": "1.1",
    "jupytext_version": "0.8.5"
   }
  },
  "kernelspec": {
   "display_name": "Python 3",
   "language": "python",
   "name": "python3"
  },
  "language_info": {
   "codemirror_mode": {
    "name": "ipython",
    "version": 3
   },
   "file_extension": ".py",
   "mimetype": "text/x-python",
   "name": "python",
   "nbconvert_exporter": "python",
   "pygments_lexer": "ipython3",
   "version": "3.6.7"
  }
 },
 "nbformat": 4,
 "nbformat_minor": 2
}
