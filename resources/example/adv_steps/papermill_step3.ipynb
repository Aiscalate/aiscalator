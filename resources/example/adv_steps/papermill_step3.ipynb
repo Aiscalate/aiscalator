{
 "cells": [
  {
   "cell_type": "code",
   "execution_count": null,
   "metadata": {
    "tags": [
     "parameters"
    ]
   },
   "outputs": [],
   "source": [
    "# Our default parameters\n",
    "# This cell has a \"parameters\" tag, means that it defines the parameters for use in the notebook\n",
    "run_date = '2018-11-18'\n",
    "source_id = 'sensor1'\n",
    "nb_days = 7"
   ]
  },
  {
   "cell_type": "code",
   "execution_count": null,
   "metadata": {},
   "outputs": [],
   "source": [
    "import statsmodels.api as sm\n",
    "import matplotlib.pyplot as plt\n",
    "from datetime import datetime, timedelta \n",
    "import os\n",
    "import pandas as pd\n",
    "\n",
    "from pylab import rcParams\n",
    "import papermill as pm"
   ]
  },
  {
   "cell_type": "code",
   "execution_count": null,
   "metadata": {},
   "outputs": [],
   "source": [
    "data_dir = \"../data/input/step1\" \n",
    "data = None\n",
    "run_datetime = datetime.strptime(run_date, '%Y-%m-%d')\n",
    "for i in range(nb_days):    \n",
    "    deltatime = run_datetime - timedelta(i)\n",
    "    month_partition = deltatime.strftime(\"%Y-%m\")\n",
    "    delta = datetime.strftime(deltatime, '%Y-%m-%d')    \n",
    "    file = os.path.join(data_dir, month_partition, delta + \"-\" + source_id + \".csv\")\n",
    "    if os.path.exists(file):\n",
    "        print(\"Loading \" + file)\n",
    "        new = pd.read_csv(file)\n",
    "        if data is not None:\n",
    "            data = pd.concat([data, new])\n",
    "        else:\n",
    "            data = new"
   ]
  },
  {
   "cell_type": "code",
   "execution_count": null,
   "metadata": {},
   "outputs": [],
   "source": [
    "data['date'] = data['date'].apply(lambda x : datetime.strptime(x, \"%Y-%m-%d %H:%M:%S\"))\n",
    "print(data['date'].describe())\n",
    "data.describe()"
   ]
  },
  {
   "cell_type": "code",
   "execution_count": null,
   "metadata": {},
   "outputs": [],
   "source": [
    "data = data.sort_values('date').set_index('date', drop=True)\n",
    "data = data.asfreq(freq=\"5min\")\n",
    "data.head(5)"
   ]
  },
  {
   "cell_type": "code",
   "execution_count": null,
   "metadata": {},
   "outputs": [],
   "source": [
    "pred = sm.load(\"../data/input/step2/prediction_model_\" + run_date + \"-\" + source_id)"
   ]
  },
  {
   "cell_type": "code",
   "execution_count": null,
   "metadata": {},
   "outputs": [],
   "source": [
    "pred_ci = pred.conf_int()\n",
    "rcParams['figure.figsize'] = 18, 8\n",
    "fig, ax = plt.subplots()\n",
    "ax.plot(data[data.index > (run_datetime - timedelta(3))]['mydata'], label='observed')\n",
    "ax.plot(pred.predicted_mean, label='One-step ahead Forecast', alpha=.7)\n",
    "ax.fill_between(pred_ci.index,\n",
    "                pred_ci.iloc[:, 0],\n",
    "                pred_ci.iloc[:, 1], color='k', alpha=.2)\n",
    "ax.set_xlabel('Date')\n",
    "ax.set_ylabel('mydata')\n",
    "ax.set(title='Results on {}'.format(run_date))\n",
    "fig.legend()"
   ]
  },
  {
   "cell_type": "code",
   "execution_count": null,
   "metadata": {
    "lines_to_next_cell": 2
   },
   "outputs": [],
   "source": [
    "\n"
   ]
  }
 ],
 "metadata": {
  "jupytext": {
   "text_representation": {
    "extension": ".py",
    "format_name": "percent",
    "format_version": "1.1",
    "jupytext_version": "0.8.5"
   }
  },
  "kernelspec": {
   "display_name": "Python 3",
   "language": "python",
   "name": "python3"
  },
  "language_info": {
   "codemirror_mode": {
    "name": "ipython",
    "version": 3
   },
   "file_extension": ".py",
   "mimetype": "text/x-python",
   "name": "python",
   "nbconvert_exporter": "python",
   "pygments_lexer": "ipython3",
   "version": "3.6.6"
  }
 },
 "nbformat": 4,
 "nbformat_minor": 2
}
