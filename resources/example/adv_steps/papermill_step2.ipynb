{
 "cells": [
  {
   "cell_type": "code",
   "execution_count": null,
   "metadata": {
    "tags": [
     "parameters"
    ]
   },
   "outputs": [],
   "source": [
    "# Our default parameters\n",
    "# This cell has a \"parameters\" tag, means that it defines the parameters for use in the notebook\n",
    "run_date = '2018-11-18'\n",
    "source_id = 'sensor1'\n",
    "nb_days = 32"
   ]
  },
  {
   "cell_type": "code",
   "execution_count": null,
   "metadata": {},
   "outputs": [],
   "source": [
    "import numpy as np\n",
    "import pandas as pd\n",
    "import papermill as pm\n",
    "import matplotlib.pyplot as plt\n",
    "from datetime import datetime, timedelta\n",
    "import os\n",
    "import statsmodels.api as sm\n",
    "from pylab import rcParams\n",
    "import itertools\n",
    "\n",
    "# turn off interactive plotting to avoid double plotting\n",
    "plt.ioff()"
   ]
  },
  {
   "cell_type": "code",
   "execution_count": null,
   "metadata": {
    "lines_to_next_cell": 2
   },
   "outputs": [],
   "source": [
    "data_dir = \"../data/input/step1\" \n",
    "data = None\n",
    "run_datetime = datetime.strptime(run_date, '%Y-%m-%d')\n",
    "for i in range(nb_days):    \n",
    "    deltatime = run_datetime - timedelta(i)\n",
    "    month_partition = deltatime.strftime(\"%Y-%m\")\n",
    "    delta = datetime.strftime(deltatime, '%Y-%m-%d')    \n",
    "    file = os.path.join(data_dir, month_partition, delta + \"-\" + source_id + \".csv\")\n",
    "    if os.path.exists(file):\n",
    "        print(\"Loading \" + file)\n",
    "        new = pd.read_csv(file)\n",
    "        if data is not None:\n",
    "            data = pd.concat([data, new])\n",
    "        else:\n",
    "            data = new"
   ]
  },
  {
   "cell_type": "code",
   "execution_count": null,
   "metadata": {
    "lines_to_next_cell": 2
   },
   "outputs": [],
   "source": [
    "data['date'] = data['date'].apply(lambda x : datetime.strptime(x, \"%Y-%m-%d %H:%M:%S\"))\n",
    "print(data['date'].describe())\n",
    "data.describe()"
   ]
  },
  {
   "cell_type": "code",
   "execution_count": null,
   "metadata": {},
   "outputs": [],
   "source": [
    "data = data.sort_values('date').set_index('date', drop=True)\n",
    "data = data.asfreq(freq=\"5min\")\n",
    "data.head(5)"
   ]
  },
  {
   "cell_type": "markdown",
   "metadata": {},
   "source": [
    "https://towardsdatascience.com/an-end-to-end-project-on-time-series-analysis-and-forecasting-with-python-4835e6bf050b\n",
    "\n",
    "\n",
    "https://www.statsmodels.org/dev/generated/statsmodels.tsa.seasonal.seasonal_decompose.html"
   ]
  },
  {
   "cell_type": "code",
   "execution_count": null,
   "metadata": {
    "lines_to_next_cell": 2
   },
   "outputs": [],
   "source": [
    "rcParams['figure.figsize'] = 18, 8\n",
    "decomposition = sm.tsa.seasonal_decompose(data['mydata'], model='additive', freq=288)\n",
    "fig = decomposition.plot()"
   ]
  },
  {
   "cell_type": "code",
   "execution_count": null,
   "metadata": {},
   "outputs": [],
   "source": [
    "p = d = q = range(0, 2)\n",
    "pdq = list(itertools.product(p, d, q))\n",
    "seasonal_pdq = [(x[0], x[1], x[2], 12) for x in list(itertools.product(p, d, q))]\n",
    "\n",
    "print('Examples of parameter combinations for Seasonal ARIMA...')\n",
    "print('SARIMAX: {} x {}'.format(pdq[1], seasonal_pdq[1]))\n",
    "print('SARIMAX: {} x {}'.format(pdq[1], seasonal_pdq[2]))\n",
    "print('SARIMAX: {} x {}'.format(pdq[2], seasonal_pdq[3]))\n",
    "print('SARIMAX: {} x {}'.format(pdq[2], seasonal_pdq[4]))"
   ]
  },
  {
   "cell_type": "code",
   "execution_count": null,
   "metadata": {},
   "outputs": [],
   "source": [
    "scores = {\n",
    "    \"AIC\" : [],\n",
    "    \"param\" : [],\n",
    "    \"param_seasonal\" : []\n",
    "}\n",
    "for param in pdq:\n",
    "    for param_seasonal in seasonal_pdq:\n",
    "        try:\n",
    "            mod = sm.tsa.statespace.SARIMAX(\n",
    "                data['mydata'],\n",
    "                order=param,\n",
    "                seasonal_order=param_seasonal,\n",
    "                enforce_stationarity=False,\n",
    "                enforce_invertibility=False\n",
    "            )\n",
    "            results = mod.fit()\n",
    "            scores['AIC'].append(results.aic)\n",
    "            scores['param'].append(param)\n",
    "            scores['param_seasonal'].append(param_seasonal)\n",
    "            print('ARIMA{}x{}12 - AIC:{}'.format(param, param_seasonal, results.aic))\n",
    "        except:\n",
    "            continue\n",
    "scores = pd.DataFrame.from_dict(scores)\n",
    "scores.sort_values('AIC').head(5)"
   ]
  },
  {
   "cell_type": "code",
   "execution_count": null,
   "metadata": {},
   "outputs": [],
   "source": [
    "best = scores.sort_values('AIC').head(1).values[0]\n",
    "mod = sm.tsa.statespace.SARIMAX(data['mydata'],\n",
    "                                order=best[1],\n",
    "                                seasonal_order=best[2],\n",
    "                                enforce_stationarity=True,\n",
    "                                enforce_invertibility=False)\n",
    "results = mod.fit()\n",
    "print(results.summary().tables[1])"
   ]
  },
  {
   "cell_type": "code",
   "execution_count": null,
   "metadata": {},
   "outputs": [],
   "source": [
    "results.plot_diagnostics(figsize=(16, 8))\n",
    "plt.show()"
   ]
  },
  {
   "cell_type": "code",
   "execution_count": null,
   "metadata": {},
   "outputs": [],
   "source": [
    "pred = results.get_prediction(start=(run_datetime - timedelta(1)), dynamic=False)\n",
    "pred_ci = pred.conf_int()\n",
    "\n",
    "fig, ax = plt.subplots()\n",
    "ax.plot(data[data.index > (run_datetime - timedelta(3))]['mydata'], label='observed')\n",
    "ax.plot(pred.predicted_mean, label='One-step ahead Forecast', alpha=.7)\n",
    "ax.fill_between(pred_ci.index,\n",
    "                pred_ci.iloc[:, 0],\n",
    "                pred_ci.iloc[:, 1], color='k', alpha=.2)\n",
    "ax.set_xlabel('Date')\n",
    "ax.set_ylabel('mydata')\n",
    "ax.set(title='Results of ARIMA{}x{}12 - AIC:{} on {}'.format(best[1], best[2], round(best[0]), run_date))\n",
    "fig.legend()\n",
    "pm.display('arima_results_fig', fig)"
   ]
  },
  {
   "cell_type": "code",
   "execution_count": null,
   "metadata": {},
   "outputs": [],
   "source": [
    "pred.save(\"../data/output/step2/prediction_model_\" + run_date + \"-\" + source_id)"
   ]
  },
  {
   "cell_type": "code",
   "execution_count": null,
   "metadata": {
    "lines_to_next_cell": 3
   },
   "outputs": [],
   "source": []
  }
 ],
 "metadata": {
  "jupytext": {
   "text_representation": {
    "extension": ".py",
    "format_name": "percent",
    "format_version": "1.1",
    "jupytext_version": "0.8.5"
   }
  },
  "kernelspec": {
   "display_name": "Python 3",
   "language": "python",
   "name": "python3"
  },
  "language_info": {
   "codemirror_mode": {
    "name": "ipython",
    "version": 3
   },
   "file_extension": ".py",
   "mimetype": "text/x-python",
   "name": "python",
   "nbconvert_exporter": "python",
   "pygments_lexer": "ipython3",
   "version": "3.6.6"
  }
 },
 "nbformat": 4,
 "nbformat_minor": 2
}
